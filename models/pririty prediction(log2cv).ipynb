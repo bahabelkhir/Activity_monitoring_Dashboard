{
 "cells": [
  {
   "cell_type": "code",
   "execution_count": 1,
   "id": "a7da87cc",
   "metadata": {},
   "outputs": [
    {
     "name": "stdout",
     "output_type": "stream",
     "text": [
      "              precision    recall  f1-score   support\n",
      "\n",
      "        high       0.96      1.00      0.98        24\n",
      "         low       1.00      1.00      1.00      1140\n",
      "      medium       1.00      1.00      1.00      1194\n",
      "\n",
      "    accuracy                           1.00      2358\n",
      "   macro avg       0.99      1.00      0.99      2358\n",
      "weighted avg       1.00      1.00      1.00      2358\n",
      "\n"
     ]
    }
   ],
   "source": [
    "import pandas as pd\n",
    "from sklearn.ensemble import RandomForestClassifier\n",
    "from sklearn.model_selection import train_test_split\n",
    "from sklearn.metrics import classification_report\n",
    "\n",
    "# load the logs table data into a pandas dataframe\n",
    "df = pd.read_csv('logs2.csv')\n",
    "\n",
    "# replace missing values in the 'priority' column with a default value of 0\n",
    "df['priority'] = df['priority'].fillna(0)\n",
    "\n",
    "# convert the 'priority' column into a categorical variable with three classes\n",
    "df['priority'] = pd.cut(df['priority'], bins=[-float('inf'), 2, 5, float('inf')], labels=['low', 'medium', 'high'])\n",
    "\n",
    "\n",
    "# select the columns to use for the model\n",
    "columns = ['job', 'project', 'type', 'origin', 'message', 'priority']\n",
    "\n",
    "# create a new dataframe with only the selected columns\n",
    "data = df[columns]\n",
    "\n",
    "# encode the categorical variables as numerical features\n",
    "data_enc = pd.get_dummies(data.drop('priority', axis=1))\n",
    "\n",
    "# split the data into training and testing sets\n",
    "train_data, test_data, train_target, test_target = train_test_split(data_enc, data['priority'], test_size=0.2)\n",
    "\n",
    "# create a Random Forest classifier\n",
    "rf = RandomForestClassifier(n_estimators=100, random_state=42)\n",
    "\n",
    "# fit the classifier to the training data\n",
    "rf.fit(train_data, train_target)\n",
    "\n",
    "# make predictions on the test data\n",
    "predictions = rf.predict(test_data)\n",
    "\n",
    "# evaluate the performance of the model\n",
    "print(classification_report(test_target, predictions))"
   ]
  },
  {
   "cell_type": "code",
   "execution_count": null,
   "id": "6309fa00",
   "metadata": {},
   "outputs": [],
   "source": []
  },
  {
   "cell_type": "code",
   "execution_count": null,
   "id": "07dac513",
   "metadata": {},
   "outputs": [],
   "source": []
  }
 ],
 "metadata": {
  "kernelspec": {
   "display_name": "Python 3 (ipykernel)",
   "language": "python",
   "name": "python3"
  },
  "language_info": {
   "codemirror_mode": {
    "name": "ipython",
    "version": 3
   },
   "file_extension": ".py",
   "mimetype": "text/x-python",
   "name": "python",
   "nbconvert_exporter": "python",
   "pygments_lexer": "ipython3",
   "version": "3.9.13"
  }
 },
 "nbformat": 4,
 "nbformat_minor": 5
}
